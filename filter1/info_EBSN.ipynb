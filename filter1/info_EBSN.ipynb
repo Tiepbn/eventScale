{
  "cells": [
    {
      "cell_type": "code",
      "execution_count": 1,
      "metadata": {
        "id": "8U-SGrUBW6hr"
      },
      "outputs": [],
      "source": [
        "import pandas as pd\n",
        "import numpy as np"
      ]
    },
    {
      "cell_type": "code",
      "execution_count": 5,
      "metadata": {
        "id": "4j5jh4qRLPMt"
      },
      "outputs": [],
      "source": [
        "data_list = []\n",
        "\n",
        "with open(r\"D:\\7.reseach\\newyork_event_information2012_2020.txt\", 'r', encoding = \"iso-8859-1\") as file:\n",
        "  for line in file:\n",
        "    try:\n",
        "      processed_line = line.strip()\n",
        "      data_list.append(processed_line)\n",
        "    except:\n",
        "      pass"
      ]
    },
    {
      "cell_type": "code",
      "execution_count": 6,
      "metadata": {
        "colab": {
          "base_uri": "https://localhost:8080/"
        },
        "id": "4teZCU_dKIFQ",
        "outputId": "f236f3b4-8d7f-4051-9c5b-ca90668ccaab"
      },
      "outputs": [
        {
          "name": "stdout",
          "output_type": "stream",
          "text": [
            "1149024\n"
          ]
        }
      ],
      "source": [
        "print(len(data_list))"
      ]
    },
    {
      "cell_type": "code",
      "execution_count": 7,
      "metadata": {
        "id": "y5QqFrWpEpPb"
      },
      "outputs": [
        {
          "name": "stdout",
          "output_type": "stream",
          "text": [
            "['id', 'group_id', 'group_URLName', 'event_id', 'event_name', 'yes_rvsp_count', 'created', 'time', 'updated', 'rating_c_a', 'fee', 'how_to_find_us', 'event_url']\n",
            "['1', '21591', 'wordpressandblogging', 'prbdnywnbqb', 'Jersey and Women Bloggers Monthly Meetup', '1', '1268852095000', '1507851000000', '1507864422000', '0_0', '0', 'how to find us', 'https://www.meetup.com/wordpressandblogging/events/243994901/']\n",
            "['2', '21591', 'wordpressandblogging', 'prbdnywpbmb', 'Jersey and Women Bloggers Monthly Meetup', '1', '1268852095000', '1510273800000', '1510289124000', '0_0', '0', 'how to find us', 'https://www.meetup.com/wordpressandblogging/events/244803630/']\n",
            "['3', '21591', 'wordpressandblogging', 'prbdnywqbsb', 'Jersey and Women Bloggers Monthly Meetup', '1', '1268852095000', '1513297800000', '1513313337000', '0_0', '0', 'how to find us', 'https://www.meetup.com/wordpressandblogging/events/245770391/']\n",
            "['4', '21591', 'wordpressandblogging', 'prbdnyxcbpb', 'Jersey and Women Bloggers Monthly Meetup', '1', '1268852095000', '1515717000000', '1515738098000', '0_0', '0', 'how to find us', 'https://www.meetup.com/wordpressandblogging/events/246445205/']\n",
            "['5', '21591', 'wordpressandblogging', 'prbdnyxdblb', 'Jersey and Women Bloggers Monthly Meetup', '2', '1268852095000', '1518136200000', '1518152905000', '0_0', '0', 'how to find us', 'https://www.meetup.com/wordpressandblogging/events/247438344/']\n",
            "['6', '21591', 'wordpressandblogging', 'prbdnyxfblb', 'Jersey and Women Bloggers Monthly Meetup', '1', '1268852095000', '1520555400000', '1520576969000', '0_0', '0', 'how to find us', 'https://www.meetup.com/wordpressandblogging/events/248359176/']\n",
            "['7', '21591', 'wordpressandblogging', 'prbdnyxgbqb', 'Jersey and Women Bloggers Monthly Meetup', '1', '1268852095000', '1523575800000', '1523598241000', '0_0', '0', 'how to find us', 'https://www.meetup.com/wordpressandblogging/events/249521965/']\n",
            "['8', '21591', 'wordpressandblogging', 'prbdnyxhbnb', 'Jersey and Women Bloggers Monthly Meetup', '1', '1268852095000', '1525995000000', '1526014491000', '0_0', '0', 'how to find us', 'https://www.meetup.com/wordpressandblogging/events/250469476/']\n",
            "['9', '21591', 'wordpressandblogging', 'prbdnyxjbsb', 'Jersey and Women Bloggers Monthly Meetup', '2', '1268852095000', '1529019000000', '1529035666000', '0_0', '0', 'how to find us', 'https://www.meetup.com/wordpressandblogging/events/251572615/']\n"
          ]
        }
      ],
      "source": [
        "#tách data theo dấu tab\n",
        "data=[]\n",
        "for i in data_list:\n",
        "  c=i.split('\\t')\n",
        "  data.append(c)\n",
        "  \n",
        "#in ra 10 dòng đầu của data\n",
        "for i in range(10):\n",
        "  print(data[i])"
      ]
    },
    {
      "cell_type": "code",
      "execution_count": 8,
      "metadata": {
        "colab": {
          "base_uri": "https://localhost:8080/",
          "height": 36
        },
        "id": "1gsKanZbFQa8",
        "outputId": "20244c73-4814-47c8-d6f5-70085158099e"
      },
      "outputs": [
        {
          "data": {
            "text/plain": [
              "'time'"
            ]
          },
          "execution_count": 8,
          "metadata": {},
          "output_type": "execute_result"
        }
      ],
      "source": [
        "col = data[0]\n",
        "col[7]"
      ]
    },
    {
      "cell_type": "code",
      "execution_count": 9,
      "metadata": {
        "id": "vazMb_Hi8MEn"
      },
      "outputs": [],
      "source": [
        "data1 = data[1:]"
      ]
    },
    {
      "cell_type": "code",
      "execution_count": 10,
      "metadata": {
        "id": "Ps3n1g0xF5Mx"
      },
      "outputs": [],
      "source": [
        "list_epoch = []\n",
        "for i in range(len(data1)):\n",
        "  list_epoch.append(int(data1[i][7]))"
      ]
    },
    {
      "cell_type": "code",
      "execution_count": 11,
      "metadata": {
        "colab": {
          "base_uri": "https://localhost:8080/"
        },
        "id": "qfMybTJoF6Mq",
        "outputId": "18a5dad5-5f08-49a5-ce4b-3dd881de16cf"
      },
      "outputs": [
        {
          "name": "stdout",
          "output_type": "stream",
          "text": [
            "392294\n"
          ]
        }
      ],
      "source": [
        "list_index = []\n",
        "for i in range(len(list_epoch)):\n",
        "  list_epoch[i]=list_epoch[i]/1000\n",
        "  if list_epoch[i]>1483246800 and list_epoch[i]< 1546318800 :\n",
        "      list_index.append(i)\n",
        "print(len(list_index))"
      ]
    },
    {
      "cell_type": "code",
      "execution_count": 12,
      "metadata": {
        "id": "1f4m9dghF_B6"
      },
      "outputs": [],
      "source": [
        "new_list = []\n",
        "for i in list_index:\n",
        "  new_list.append(data1[i])"
      ]
    },
    {
      "cell_type": "code",
      "execution_count": 13,
      "metadata": {
        "colab": {
          "base_uri": "https://localhost:8080/"
        },
        "id": "kXPIk-gXNJ75",
        "outputId": "bf658ec7-64de-4b03-a6ee-d6442a5be76d"
      },
      "outputs": [
        {
          "name": "stdout",
          "output_type": "stream",
          "text": [
            "2017-07-27 16:00:00-04:00\n",
            "Giờ New York: 2017/07/27/16\n",
            "Thursday\n"
          ]
        }
      ],
      "source": [
        "import pytz\n",
        "from datetime import datetime\n",
        "\n",
        "def convert_unix_time_to_new_york(unix_time):\n",
        "    # Lấy múi giờ của New York\n",
        "    new_york_timezone = pytz.timezone('America/New_York')\n",
        "\n",
        "    # Chuyển giờ máy tính sang đối tượng datetime\n",
        "    computer_time = datetime.fromtimestamp(unix_time)\n",
        "\n",
        "    # Đặt múi giờ của thời gian hiện tại là múi giờ của New York\n",
        "    new_york_time = computer_time.astimezone(new_york_timezone)\n",
        "\n",
        "    return new_york_time\n",
        "\n",
        "unix_time = 1501185600\n",
        "ny_time = convert_unix_time_to_new_york(unix_time)\n",
        "print(ny_time)\n",
        "print(\"Giờ New York:\", ny_time.strftime(\"%Y/%m/%d/%H\"))\n",
        "print(ny_time.strftime('%A'))"
      ]
    },
    {
      "cell_type": "code",
      "execution_count": 14,
      "metadata": {
        "id": "KgZpYrUsYDK9"
      },
      "outputs": [],
      "source": [
        "for i in range(len(new_list)):\n",
        "  a = int(new_list[i][7])/1000\n",
        "  b = convert_unix_time_to_new_york(a)\n",
        "  c0 = b.strftime(\"%Y\")\n",
        "  c1 = b.strftime(\"%m\")\n",
        "  c2 = b.strftime(\"%d\")\n",
        "  c3 = b.strftime(\"%H\")\n",
        "  c4 = b.strftime(\"%A\")\n",
        "  new_list[i].insert(7,c0)\n",
        "  new_list[i].insert(8,c1)\n",
        "  new_list[i].insert(9,c2)\n",
        "  new_list[i].insert(10,c3)\n",
        "  new_list[i].insert(11,c4)"
      ]
    },
    {
      "cell_type": "code",
      "execution_count": 15,
      "metadata": {
        "colab": {
          "base_uri": "https://localhost:8080/"
        },
        "id": "wm2aUKkCiyzU",
        "outputId": "3ca37815-aca6-4084-d50a-77ae547e9247"
      },
      "outputs": [
        {
          "data": {
            "text/plain": [
              "['1',\n",
              " '21591',\n",
              " 'wordpressandblogging',\n",
              " 'prbdnywnbqb',\n",
              " 'Jersey and Women Bloggers Monthly Meetup',\n",
              " '1',\n",
              " '1268852095000',\n",
              " '2017',\n",
              " '10',\n",
              " '12',\n",
              " '19',\n",
              " 'Thursday',\n",
              " '1507851000000',\n",
              " '1507864422000',\n",
              " '0_0',\n",
              " '0',\n",
              " 'how to find us',\n",
              " 'https://www.meetup.com/wordpressandblogging/events/243994901/']"
            ]
          },
          "execution_count": 15,
          "metadata": {},
          "output_type": "execute_result"
        }
      ],
      "source": [
        "new_list[0]"
      ]
    },
    {
      "cell_type": "code",
      "execution_count": null,
      "metadata": {
        "colab": {
          "base_uri": "https://localhost:8080/"
        },
        "id": "s5aI-K4Niy1q",
        "outputId": "98b5f32a-bc6e-40a6-844b-de26f1667c11"
      },
      "outputs": [
        {
          "data": {
            "text/plain": [
              "['id',\n",
              " 'group_id',\n",
              " 'group_URLName',\n",
              " 'event_id',\n",
              " 'event_name',\n",
              " 'yes_rvsp_count',\n",
              " 'created',\n",
              " 'time',\n",
              " 'updated',\n",
              " 'rating_c_a',\n",
              " 'fee',\n",
              " 'how_to_find_us',\n",
              " 'event_url']"
            ]
          },
          "execution_count": 42,
          "metadata": {},
          "output_type": "execute_result"
        }
      ],
      "source": [
        "col"
      ]
    },
    {
      "cell_type": "code",
      "execution_count": 16,
      "metadata": {
        "id": "ip_h-g78iy5J"
      },
      "outputs": [],
      "source": [
        "\n",
        "col.insert(7,\"year\")\n",
        "col.insert(8,\"month\")\n",
        "col.insert(9,\"day\")\n",
        "col.insert(10,\"hour\")\n",
        "col.insert(11,\"in week\")"
      ]
    },
    {
      "cell_type": "code",
      "execution_count": 17,
      "metadata": {
        "id": "x9FjaIeznOi1"
      },
      "outputs": [],
      "source": [
        "new_list.insert(0,col)"
      ]
    },
    {
      "cell_type": "code",
      "execution_count": 22,
      "metadata": {
        "colab": {
          "base_uri": "https://localhost:8080/"
        },
        "id": "9f2HNI9Mnlxf",
        "outputId": "10f79b79-a50a-4349-ba7f-7b0330262a66"
      },
      "outputs": [
        {
          "name": "stdout",
          "output_type": "stream",
          "text": [
            "['1002', '29074', 'NYCCanadians', '244455479', 'Canadian Universities Alumni Reception', '11', '1508771683000', '2017', '11', '07', '18', 'Tuesday', '1510097400000', '1510111782000', '0_0', '0', 'how to find us', 'https://www.meetup.com/NYCCanadians/events/244455479/']\n",
            "['1003', '29074', 'NYCCanadians', '247119009', 'Great Canadian Beer Hall', '15', '1516804157000', '2018', '02', '05', '18', 'Monday', '1517873400000', '1517885722000', '0_0', '0', 'Cross posting of a CANY event', 'https://www.meetup.com/NYCCanadians/events/247119009/']\n",
            "['1004', '29074', 'NYCCanadians', '248434722', 'March 26, Meet the Authors', '25', '1520263916000', '2018', '03', '26', '18', 'Monday', '1522101600000', '1522118375000', '0_0', '0', 'Third floor', 'https://www.meetup.com/NYCCanadians/events/248434722/']\n",
            "['1005', '29074', 'NYCCanadians', '251143297', 'The Same Sky Cafe:  Night of Storytelling with Canadian Artists', '5', '1527383826000', '2018', '06', '19', '19', 'Tuesday', '1529449200000', '1529473295000', '1_4', '20', 'Upstairs area', 'https://www.meetup.com/NYCCanadians/events/251143297/']\n",
            "['1006', '29074', 'NYCCanadians', '252284837', 'Canada Day: Part Deux', '4', '1530308272000', '2018', '07', '01', '12', 'Sunday', '1530460800000', '1530497395000', '0_0', '0', 'how to find us', 'https://www.meetup.com/NYCCanadians/events/252284837/']\n",
            "['1007', '29074', 'NYCCanadians', '251744822', 'Canada Day - Part One', '17', '1528953069000', '2018', '07', '01', '14', 'Sunday', '1530468000000', '1530491088000', '0_0', '0', 'how to find us', 'https://www.meetup.com/NYCCanadians/events/251744822/']\n",
            "['1008', '29074', 'NYCCanadians', '255753553', 'Mid-Term Election Night Food And Drinks', '7', '1540244483000', '2018', '11', '06', '18', 'Tuesday', '1541547000000', '1541565914000', '0_0', '0', 'how to find us', 'https://www.meetup.com/NYCCanadians/events/255753553/']\n",
            "['1009', '29074', 'NYCCanadians', '256247841', 'Great Canadian Beer Hall - Iron Chef Canada', '5', '1541709412000', '2018', '11', '19', '18', 'Monday', '1542671100000', '1542686988000', '0_0', '0', 'how to find us', 'https://www.meetup.com/NYCCanadians/events/256247841/']\n",
            "['1010', '29074', 'NYCCanadians', '256871558', 'Holiday Hangout -- Bryant Park', '10', '1543699093000', '2018', '12', '11', '19', 'Tuesday', '1544572800000', '1544584685000', '0_0', '0', 'Meet under the tree', 'https://www.meetup.com/NYCCanadians/events/256871558/']\n",
            "['1011', '29074', 'NYCCanadians', '257162123', 'Chinese And A Movie - A Jewish Christmas (Holmes & Watson)', '2', '1544636609000', '2018', '12', '25', '19', 'Tuesday', '1545782400000', '1545799720000', '0_0', '0', 'how to find us', 'https://www.meetup.com/NYCCanadians/events/257162123/']\n",
            "['1019', '115482', 'TriStatePaganCommunity', 'dwrqbfywnbcb', 'Wicca Studies Classes 1st Degree', '2', '1356797713000', '2017', '10', '01', '13', 'Sunday', '1506877200000', '1506891607000', '0_0', '0', 'how to find us', 'https://www.meetup.com/TriStatePaganCommunity/events/243656841/']\n",
            "['1020', '115482', 'TriStatePaganCommunity', '243956561', 'Earth Drum Circle - October 2017', '7', '1507231838000', '2017', '10', '14', '16', 'Saturday', '1508011200000', '1508024209000', '0_0', '0', 'how to find us', 'https://www.meetup.com/TriStatePaganCommunity/events/243956561/']\n",
            "['1021', '115482', 'TriStatePaganCommunity', 'qxmcdfywnbtb', 'Wicca Studies Classes 1st Degree', '1', '1357616175000', '2017', '10', '15', '13', 'Sunday', '1508086800000', '1508100274000', '0_0', '27', 'how to find us', 'https://www.meetup.com/TriStatePaganCommunity/events/244061689/']\n",
            "['1022', '115482', 'TriStatePaganCommunity', 'kddwwlywnbxb', 'Full Moon Ritual - The Corn Moon', '2', '1470593485000', '2017', '10', '18', '19', 'Wednesday', '1508367600000', '1508382596000', '0_0', '16', 'how to find us', 'https://www.meetup.com/TriStatePaganCommunity/events/244160294/']\n",
            "['1023', '115482', 'TriStatePaganCommunity', '243847016', 'THE 12TH ANNUAL NYC WITCHESâ\\x80\\x99 HALLOWEEN MASQUERADE BALL', '2', '1506933068000', '2017', '10', '31', '20', 'Tuesday', '1509494400000', '1509510300000', '0_0', '22', 'how to find us', 'https://www.meetup.com/TriStatePaganCommunity/events/243847016/']\n",
            "['1024', '115482', 'TriStatePaganCommunity', 'kddwwlywpbtb', 'Full Moon Ritual - The Snow Moon', '2', '1509810123000', '2017', '11', '04', '19', 'Saturday', '1509836400000', '1509850845000', '0_0', '16', 'how to find us', 'https://www.meetup.com/TriStatePaganCommunity/events/244816720/']\n",
            "['1025', '115482', 'TriStatePaganCommunity', 'dwrqbfywpbhb', 'Wicca Studies Classes 1st Degree', '4', '1356797713000', '2017', '11', '05', '11', 'Sunday', '1509897600000', '1509911481000', '0_0', '33', 'how to find us', 'https://www.meetup.com/TriStatePaganCommunity/events/244345426/']\n",
            "['1026', '115482', 'TriStatePaganCommunity', '244878512', 'Earth Drum Circle @ Fountain House Community - November 2017', '1', '1510003007000', '2017', '11', '11', '19', 'Saturday', '1510444800000', '1510454674000', '0_0', '0', 'how to find us', 'https://www.meetup.com/TriStatePaganCommunity/events/244878512/']\n",
            "['1027', '115482', 'TriStatePaganCommunity', 'qxmcdfywpbzb', 'Wicca Studies Classes 1st Degree', '1', '1357616175000', '2017', '11', '19', '13', 'Sunday', '1511114400000', '1511128813000', '0_0', '27', 'how to find us', 'https://www.meetup.com/TriStatePaganCommunity/events/245085452/']\n",
            "['1028', '115482', 'TriStatePaganCommunity', 'dwrqbfywqbfb', 'Wicca Studies Classes 1st Degree', '3', '1356797713000', '2017', '12', '03', '13', 'Sunday', '1512324000000', '1512339570000', '0_0', '0', 'how to find us', 'https://www.meetup.com/TriStatePaganCommunity/events/245445928/']\n",
            "392295\n"
          ]
        }
      ],
      "source": [
        "for i in range(20):\n",
        "  print(new_list[i+500])\n",
        "print(len(new_list))"
      ]
    },
    {
      "cell_type": "code",
      "execution_count": 21,
      "metadata": {
        "id": "klIn0D4lnqq9"
      },
      "outputs": [],
      "source": [
        "import csv\n",
        "\n",
        "\n",
        "# Ghi list chứa các list vào file CSV\n",
        "with open(r\"D:\\7.reseach\\filter1\\info_file.csv\", 'w', newline='',encoding = \"iso-8859-1\") as file:\n",
        "    try:\n",
        "        writer = csv.writer(file)\n",
        "        writer.writerows(new_list)\n",
        "    except:\n",
        "        pass"
      ]
    },
    {
      "cell_type": "code",
      "execution_count": null,
      "metadata": {
        "id": "vWuP1SPJ56T3"
      },
      "outputs": [],
      "source": []
    },
    {
      "cell_type": "code",
      "execution_count": null,
      "metadata": {
        "id": "hAiqVkJZ56Dv"
      },
      "outputs": [],
      "source": []
    },
    {
      "cell_type": "code",
      "execution_count": null,
      "metadata": {
        "id": "DtpI2umRnzuD"
      },
      "outputs": [],
      "source": []
    }
  ],
  "metadata": {
    "colab": {
      "provenance": []
    },
    "kernelspec": {
      "display_name": "Python 3",
      "name": "python3"
    },
    "language_info": {
      "codemirror_mode": {
        "name": "ipython",
        "version": 3
      },
      "file_extension": ".py",
      "mimetype": "text/x-python",
      "name": "python",
      "nbconvert_exporter": "python",
      "pygments_lexer": "ipython3",
      "version": "3.10.1"
    }
  },
  "nbformat": 4,
  "nbformat_minor": 0
}
